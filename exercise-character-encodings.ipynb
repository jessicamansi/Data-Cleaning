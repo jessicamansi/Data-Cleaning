{
 "cells": [
  {
   "cell_type": "markdown",
   "id": "d7ccc497",
   "metadata": {
    "papermill": {
     "duration": 0.00487,
     "end_time": "2023-06-29T23:27:30.257311",
     "exception": false,
     "start_time": "2023-06-29T23:27:30.252441",
     "status": "completed"
    },
    "tags": []
   },
   "source": [
    "**This notebook is an exercise in the [Data Cleaning](https://www.kaggle.com/learn/data-cleaning) course.  You can reference the tutorial at [this link](https://www.kaggle.com/alexisbcook/character-encodings).**\n",
    "\n",
    "---\n"
   ]
  },
  {
   "cell_type": "markdown",
   "id": "82946c2c",
   "metadata": {
    "papermill": {
     "duration": 0.003605,
     "end_time": "2023-06-29T23:27:30.265351",
     "exception": false,
     "start_time": "2023-06-29T23:27:30.261746",
     "status": "completed"
    },
    "tags": []
   },
   "source": [
    "In this exercise, you'll apply what you learned in the **Character encodings** tutorial.\n",
    "\n",
    "# Setup\n",
    "\n",
    "The questions below will give you feedback on your work. Run the following cell to set up the feedback system."
   ]
  },
  {
   "cell_type": "code",
   "execution_count": 1,
   "id": "c4164770",
   "metadata": {
    "execution": {
     "iopub.execute_input": "2023-06-29T23:27:30.274864Z",
     "iopub.status.busy": "2023-06-29T23:27:30.274199Z",
     "iopub.status.idle": "2023-06-29T23:27:30.360420Z",
     "shell.execute_reply": "2023-06-29T23:27:30.359520Z"
    },
    "papermill": {
     "duration": 0.093218,
     "end_time": "2023-06-29T23:27:30.362288",
     "exception": false,
     "start_time": "2023-06-29T23:27:30.269070",
     "status": "completed"
    },
    "tags": []
   },
   "outputs": [
    {
     "name": "stdout",
     "output_type": "stream",
     "text": [
      "Setup Complete\n"
     ]
    }
   ],
   "source": [
    "from learntools.core import binder\n",
    "binder.bind(globals())\n",
    "from learntools.data_cleaning.ex4 import *\n",
    "print(\"Setup Complete\")"
   ]
  },
  {
   "cell_type": "markdown",
   "id": "85ff0f50",
   "metadata": {
    "papermill": {
     "duration": 0.00358,
     "end_time": "2023-06-29T23:27:30.369922",
     "exception": false,
     "start_time": "2023-06-29T23:27:30.366342",
     "status": "completed"
    },
    "tags": []
   },
   "source": [
    "# Get our environment set up\n",
    "\n",
    "The first thing we'll need to do is load in the libraries we'll be using."
   ]
  },
  {
   "cell_type": "code",
   "execution_count": 2,
   "id": "40ecb57e",
   "metadata": {
    "execution": {
     "iopub.execute_input": "2023-06-29T23:27:30.382173Z",
     "iopub.status.busy": "2023-06-29T23:27:30.378801Z",
     "iopub.status.idle": "2023-06-29T23:27:30.386728Z",
     "shell.execute_reply": "2023-06-29T23:27:30.385467Z"
    },
    "papermill": {
     "duration": 0.014879,
     "end_time": "2023-06-29T23:27:30.388704",
     "exception": false,
     "start_time": "2023-06-29T23:27:30.373825",
     "status": "completed"
    },
    "tags": []
   },
   "outputs": [],
   "source": [
    "# modules we'll use\n",
    "import pandas as pd\n",
    "import numpy as np\n",
    "\n",
    "# helpful character encoding module\n",
    "import charset_normalizer\n",
    "\n",
    "# set seed for reproducibility\n",
    "np.random.seed(0)"
   ]
  },
  {
   "cell_type": "markdown",
   "id": "292f9bee",
   "metadata": {
    "papermill": {
     "duration": 0.003543,
     "end_time": "2023-06-29T23:27:30.396374",
     "exception": false,
     "start_time": "2023-06-29T23:27:30.392831",
     "status": "completed"
    },
    "tags": []
   },
   "source": [
    "# 1) What are encodings?\n",
    "\n",
    "You're working with a dataset composed of bytes.  Run the code cell below to print a sample entry."
   ]
  },
  {
   "cell_type": "code",
   "execution_count": 3,
   "id": "567af312",
   "metadata": {
    "execution": {
     "iopub.execute_input": "2023-06-29T23:27:30.407768Z",
     "iopub.status.busy": "2023-06-29T23:27:30.407137Z",
     "iopub.status.idle": "2023-06-29T23:27:30.412677Z",
     "shell.execute_reply": "2023-06-29T23:27:30.411254Z"
    },
    "papermill": {
     "duration": 0.012986,
     "end_time": "2023-06-29T23:27:30.414972",
     "exception": false,
     "start_time": "2023-06-29T23:27:30.401986",
     "status": "completed"
    },
    "tags": []
   },
   "outputs": [
    {
     "name": "stdout",
     "output_type": "stream",
     "text": [
      "b'\\xa7A\\xa6n'\n",
      "data type: <class 'bytes'>\n"
     ]
    }
   ],
   "source": [
    "sample_entry = b'\\xa7A\\xa6n'\n",
    "print(sample_entry)\n",
    "print('data type:', type(sample_entry))"
   ]
  },
  {
   "cell_type": "markdown",
   "id": "8d9e4671",
   "metadata": {
    "papermill": {
     "duration": 0.00365,
     "end_time": "2023-06-29T23:27:30.423064",
     "exception": false,
     "start_time": "2023-06-29T23:27:30.419414",
     "status": "completed"
    },
    "tags": []
   },
   "source": [
    "You notice that it doesn't use the standard UTF-8 encoding. \n",
    "\n",
    "Use the next code cell to create a variable `new_entry` that changes the encoding from `\"big5-tw\"` to `\"utf-8\"`.  `new_entry` should have the bytes datatype."
   ]
  },
  {
   "cell_type": "code",
   "execution_count": 4,
   "id": "7c28b225",
   "metadata": {
    "execution": {
     "iopub.execute_input": "2023-06-29T23:27:30.432929Z",
     "iopub.status.busy": "2023-06-29T23:27:30.432543Z",
     "iopub.status.idle": "2023-06-29T23:27:30.442429Z",
     "shell.execute_reply": "2023-06-29T23:27:30.441385Z"
    },
    "papermill": {
     "duration": 0.01779,
     "end_time": "2023-06-29T23:27:30.444784",
     "exception": false,
     "start_time": "2023-06-29T23:27:30.426994",
     "status": "completed"
    },
    "tags": []
   },
   "outputs": [
    {
     "data": {
      "application/javascript": [
       "parent.postMessage({\"jupyterEvent\": \"custom.exercise_interaction\", \"data\": {\"outcomeType\": 1, \"valueTowardsCompletion\": 0.3333333333333333, \"interactionType\": 1, \"questionType\": 1, \"questionId\": \"1_EncodingsIntro\", \"learnToolsVersion\": \"0.3.4\", \"failureMessage\": \"\", \"exceptionClass\": \"\", \"trace\": \"\"}}, \"*\")"
      ],
      "text/plain": [
       "<IPython.core.display.Javascript object>"
      ]
     },
     "metadata": {},
     "output_type": "display_data"
    },
    {
     "data": {
      "text/markdown": [
       "<span style=\"color:#33cc33\">Correct</span>"
      ],
      "text/plain": [
       "Correct"
      ]
     },
     "metadata": {},
     "output_type": "display_data"
    }
   ],
   "source": [
    "before = sample_entry.decode(\"big5-tw\")\n",
    "new_entry = before.encode(\"utf-8\", errors=\"replace\")\n",
    "\n",
    "# Check your answer\n",
    "q1.check()"
   ]
  },
  {
   "cell_type": "code",
   "execution_count": 5,
   "id": "8c3317b6",
   "metadata": {
    "execution": {
     "iopub.execute_input": "2023-06-29T23:27:30.455373Z",
     "iopub.status.busy": "2023-06-29T23:27:30.454990Z",
     "iopub.status.idle": "2023-06-29T23:27:30.458372Z",
     "shell.execute_reply": "2023-06-29T23:27:30.457690Z"
    },
    "papermill": {
     "duration": 0.010571,
     "end_time": "2023-06-29T23:27:30.459898",
     "exception": false,
     "start_time": "2023-06-29T23:27:30.449327",
     "status": "completed"
    },
    "tags": []
   },
   "outputs": [],
   "source": [
    "# Lines below will give you a hint or solution code\n",
    "#q1.hint()\n",
    "#q1.solution()"
   ]
  },
  {
   "cell_type": "markdown",
   "id": "0db78fdb",
   "metadata": {
    "papermill": {
     "duration": 0.003887,
     "end_time": "2023-06-29T23:27:30.468572",
     "exception": false,
     "start_time": "2023-06-29T23:27:30.464685",
     "status": "completed"
    },
    "tags": []
   },
   "source": [
    "# 2) Reading in files with encoding problems\n",
    "\n",
    "Use the code cell below to read in this file at path `\"../input/fatal-police-shootings-in-the-us/PoliceKillingsUS.csv\"`.  \n",
    "\n",
    "Figure out what the correct encoding should be and read in the file to a DataFrame `police_killings`."
   ]
  },
  {
   "cell_type": "code",
   "execution_count": 6,
   "id": "5f1117b5",
   "metadata": {
    "execution": {
     "iopub.execute_input": "2023-06-29T23:27:30.478302Z",
     "iopub.status.busy": "2023-06-29T23:27:30.477961Z",
     "iopub.status.idle": "2023-06-29T23:27:30.748149Z",
     "shell.execute_reply": "2023-06-29T23:27:30.747260Z"
    },
    "papermill": {
     "duration": 0.277756,
     "end_time": "2023-06-29T23:27:30.750430",
     "exception": false,
     "start_time": "2023-06-29T23:27:30.472674",
     "status": "completed"
    },
    "tags": []
   },
   "outputs": [
    {
     "name": "stdout",
     "output_type": "stream",
     "text": [
      "{'encoding': 'windows-1250', 'language': 'English', 'confidence': 1.0}\n"
     ]
    },
    {
     "data": {
      "application/javascript": [
       "parent.postMessage({\"jupyterEvent\": \"custom.exercise_interaction\", \"data\": {\"outcomeType\": 1, \"valueTowardsCompletion\": 0.3333333333333333, \"interactionType\": 1, \"questionType\": 1, \"questionId\": \"2_ReadIn\", \"learnToolsVersion\": \"0.3.4\", \"failureMessage\": \"\", \"exceptionClass\": \"\", \"trace\": \"\"}}, \"*\")"
      ],
      "text/plain": [
       "<IPython.core.display.Javascript object>"
      ]
     },
     "metadata": {},
     "output_type": "display_data"
    },
    {
     "data": {
      "text/markdown": [
       "<span style=\"color:#33cc33\">Correct</span>"
      ],
      "text/plain": [
       "Correct"
      ]
     },
     "metadata": {},
     "output_type": "display_data"
    }
   ],
   "source": [
    "# TODO: Load in the DataFrame correctly.\n",
    "with open (\"../input/fatal-police-shootings-in-the-us/PoliceKillingsUS.csv\", 'rb') as rawdata:\n",
    "    result = charset_normalizer.detect(rawdata.read(100000))\n",
    "print(result)\n",
    "police_killings = pd.read_csv(\"../input/fatal-police-shootings-in-the-us/PoliceKillingsUS.csv\", encoding='windows-1250')\n",
    "\n",
    "# Check your answer\n",
    "q2.check()"
   ]
  },
  {
   "cell_type": "markdown",
   "id": "1352c4a6",
   "metadata": {
    "papermill": {
     "duration": 0.004072,
     "end_time": "2023-06-29T23:27:30.759348",
     "exception": false,
     "start_time": "2023-06-29T23:27:30.755276",
     "status": "completed"
    },
    "tags": []
   },
   "source": [
    "Feel free to use any additional code cells for supplemental work.  To get credit for finishing this question, you'll need to run `q2.check()` and get a result of **Correct**."
   ]
  },
  {
   "cell_type": "code",
   "execution_count": 7,
   "id": "8345ae09",
   "metadata": {
    "execution": {
     "iopub.execute_input": "2023-06-29T23:27:30.769253Z",
     "iopub.status.busy": "2023-06-29T23:27:30.768901Z",
     "iopub.status.idle": "2023-06-29T23:27:30.772845Z",
     "shell.execute_reply": "2023-06-29T23:27:30.771918Z"
    },
    "papermill": {
     "duration": 0.011083,
     "end_time": "2023-06-29T23:27:30.774649",
     "exception": false,
     "start_time": "2023-06-29T23:27:30.763566",
     "status": "completed"
    },
    "tags": []
   },
   "outputs": [],
   "source": [
    "# (Optional) Use this code cell for any additional work."
   ]
  },
  {
   "cell_type": "code",
   "execution_count": 8,
   "id": "57f97562",
   "metadata": {
    "execution": {
     "iopub.execute_input": "2023-06-29T23:27:30.784808Z",
     "iopub.status.busy": "2023-06-29T23:27:30.784311Z",
     "iopub.status.idle": "2023-06-29T23:27:30.787832Z",
     "shell.execute_reply": "2023-06-29T23:27:30.787059Z"
    },
    "papermill": {
     "duration": 0.010492,
     "end_time": "2023-06-29T23:27:30.789446",
     "exception": false,
     "start_time": "2023-06-29T23:27:30.778954",
     "status": "completed"
    },
    "tags": []
   },
   "outputs": [],
   "source": [
    "# Lines below will give you a hint or solution code\n",
    "#q2.hint()\n",
    "#q2.solution()"
   ]
  },
  {
   "cell_type": "markdown",
   "id": "f74e8920",
   "metadata": {
    "papermill": {
     "duration": 0.00407,
     "end_time": "2023-06-29T23:27:30.797980",
     "exception": false,
     "start_time": "2023-06-29T23:27:30.793910",
     "status": "completed"
    },
    "tags": []
   },
   "source": [
    "# 3) Saving your files with UTF-8 encoding\n",
    "\n",
    "Save a version of the police killings dataset to CSV with UTF-8 encoding.  Your answer will be marked correct after saving this file.  \n",
    "\n",
    "Note: When using the `to_csv()` method, supply only the name of the file (e.g., `\"my_file.csv\"`).  This saves the file at the filepath `\"/kaggle/working/my_file.csv\"`."
   ]
  },
  {
   "cell_type": "code",
   "execution_count": 9,
   "id": "7147dff9",
   "metadata": {
    "execution": {
     "iopub.execute_input": "2023-06-29T23:27:30.808485Z",
     "iopub.status.busy": "2023-06-29T23:27:30.807864Z",
     "iopub.status.idle": "2023-06-29T23:27:30.844152Z",
     "shell.execute_reply": "2023-06-29T23:27:30.842928Z"
    },
    "papermill": {
     "duration": 0.044183,
     "end_time": "2023-06-29T23:27:30.846487",
     "exception": false,
     "start_time": "2023-06-29T23:27:30.802304",
     "status": "completed"
    },
    "tags": []
   },
   "outputs": [
    {
     "data": {
      "application/javascript": [
       "parent.postMessage({\"jupyterEvent\": \"custom.exercise_interaction\", \"data\": {\"outcomeType\": 1, \"valueTowardsCompletion\": 0.3333333333333333, \"interactionType\": 1, \"questionType\": 2, \"questionId\": \"3_SaveCSV\", \"learnToolsVersion\": \"0.3.4\", \"failureMessage\": \"\", \"exceptionClass\": \"\", \"trace\": \"\"}}, \"*\")"
      ],
      "text/plain": [
       "<IPython.core.display.Javascript object>"
      ]
     },
     "metadata": {},
     "output_type": "display_data"
    },
    {
     "data": {
      "text/markdown": [
       "<span style=\"color:#33cc33\">Correct</span>"
      ],
      "text/plain": [
       "Correct"
      ]
     },
     "metadata": {},
     "output_type": "display_data"
    }
   ],
   "source": [
    "# TODO: Save the police killings dataset to CSV\n",
    "police_killings.to_csv(\"PoliceKillingsUS.csv\")\n",
    "\n",
    "# Check your answer\n",
    "q3.check()"
   ]
  },
  {
   "cell_type": "code",
   "execution_count": 10,
   "id": "88b38344",
   "metadata": {
    "execution": {
     "iopub.execute_input": "2023-06-29T23:27:30.858179Z",
     "iopub.status.busy": "2023-06-29T23:27:30.857763Z",
     "iopub.status.idle": "2023-06-29T23:27:30.861299Z",
     "shell.execute_reply": "2023-06-29T23:27:30.860379Z"
    },
    "papermill": {
     "duration": 0.011689,
     "end_time": "2023-06-29T23:27:30.863267",
     "exception": false,
     "start_time": "2023-06-29T23:27:30.851578",
     "status": "completed"
    },
    "tags": []
   },
   "outputs": [],
   "source": [
    "# Lines below will give you a hint or solution code\n",
    "#q3.hint()\n",
    "#q3.solution()"
   ]
  },
  {
   "cell_type": "markdown",
   "id": "e1c0c067",
   "metadata": {
    "papermill": {
     "duration": 0.00452,
     "end_time": "2023-06-29T23:27:30.873261",
     "exception": false,
     "start_time": "2023-06-29T23:27:30.868741",
     "status": "completed"
    },
    "tags": []
   },
   "source": [
    "# (Optional) More practice\n",
    "\n",
    "Check out [this dataset of files in different character encodings](https://www.kaggle.com/rtatman/character-encoding-examples). Can you read in all the files with their original encodings and them save them out as UTF-8 files?\n",
    "\n",
    "If you have a file that's in UTF-8 but has just a couple of weird-looking characters in it, you can try out the [ftfy module](https://ftfy.readthedocs.io/en/latest/#) and see if it helps. \n",
    "\n",
    "# Keep going\n",
    "\n",
    "In the final lesson, learn how to [**clean up inconsistent text entries**](https://www.kaggle.com/alexisbcook/inconsistent-data-entry) in your dataset."
   ]
  },
  {
   "cell_type": "markdown",
   "id": "e0ee7457",
   "metadata": {
    "papermill": {
     "duration": 0.00434,
     "end_time": "2023-06-29T23:27:30.882235",
     "exception": false,
     "start_time": "2023-06-29T23:27:30.877895",
     "status": "completed"
    },
    "tags": []
   },
   "source": [
    "---\n",
    "\n",
    "\n",
    "\n",
    "\n",
    "*Have questions or comments? Visit the [course discussion forum](https://www.kaggle.com/learn/data-cleaning/discussion) to chat with other learners.*"
   ]
  }
 ],
 "metadata": {
  "kernelspec": {
   "display_name": "Python 3",
   "language": "python",
   "name": "python3"
  },
  "language_info": {
   "codemirror_mode": {
    "name": "ipython",
    "version": 3
   },
   "file_extension": ".py",
   "mimetype": "text/x-python",
   "name": "python",
   "nbconvert_exporter": "python",
   "pygments_lexer": "ipython3",
   "version": "3.10.10"
  },
  "papermill": {
   "default_parameters": {},
   "duration": 10.698652,
   "end_time": "2023-06-29T23:27:31.708502",
   "environment_variables": {},
   "exception": null,
   "input_path": "__notebook__.ipynb",
   "output_path": "__notebook__.ipynb",
   "parameters": {},
   "start_time": "2023-06-29T23:27:21.009850",
   "version": "2.4.0"
  }
 },
 "nbformat": 4,
 "nbformat_minor": 5
}
